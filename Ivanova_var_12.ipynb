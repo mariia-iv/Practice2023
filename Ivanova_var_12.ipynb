{
 "cells": [
  {
   "cell_type": "code",
   "execution_count": 2,
   "id": "6d273dbb",
   "metadata": {},
   "outputs": [],
   "source": [
    "import numpy as np\n",
    "import math\n",
    "import matplotlib.pyplot as plt\n",
    "import pandas as pd\n",
    "import scipy.special as sp\n",
    "from decimal import Decimal\n"
   ]
  },
  {
   "cell_type": "markdown",
   "id": "307fd515",
   "metadata": {},
   "source": [
    "# Первая точка x = $\\Pi$\n",
    "n=9"
   ]
  },
  {
   "cell_type": "code",
   "execution_count": 27,
   "id": "effd07cb",
   "metadata": {},
   "outputs": [
    {
     "name": "stdout",
     "output_type": "stream",
     "text": [
      "4.303069587032944e-06\n",
      "9\n"
     ]
    }
   ],
   "source": [
    "refer = -1\n",
    "\n",
    "def fact(n):\n",
    "    f=1\n",
    "    for i in range(2, n+1):\n",
    "        f=f*i\n",
    "    return f\n",
    "x = math.pi\n",
    "coef = []\n",
    "sum = 1\n",
    "n = 0\n",
    "while abs(sum) >= math.e**(-12):\n",
    "    sum = (-1)**n*x**(2*n)/fact(2*n)\n",
    "    coef.append(sum)\n",
    "    n+=1\n",
    "print(sum)\n",
    "print(n)"
   ]
  },
  {
   "cell_type": "markdown",
   "id": "81d55f70",
   "metadata": {},
   "source": [
    "# \"Наивное\" суммирование\n"
   ]
  },
  {
   "cell_type": "code",
   "execution_count": 28,
   "id": "246e4df4",
   "metadata": {},
   "outputs": [
    {
     "name": "stdout",
     "output_type": "stream",
     "text": [
      "-0.9999998647395555 1.352604445115091e-07\n"
     ]
    }
   ],
   "source": [
    "refer= -1\n",
    "sm1= 0\n",
    "for i in range(n):\n",
    "    sm1+=coef[i]\n",
    "print(sm1, sm1-ref)"
   ]
  },
  {
   "cell_type": "markdown",
   "id": "dd25882a",
   "metadata": {},
   "source": [
    "# Суммирование в порядке возрастания слагаемых"
   ]
  },
  {
   "cell_type": "code",
   "execution_count": 29,
   "id": "9573a353",
   "metadata": {},
   "outputs": [
    {
     "name": "stdout",
     "output_type": "stream",
     "text": [
      "-0.9999998647395554 1.352604446225314e-07\n"
     ]
    }
   ],
   "source": [
    "coef.sort()\n",
    "sm2=0\n",
    "for i in range(n):\n",
    "    sm2+=coef[i]\n",
    "print(sm2, sm2-ref)"
   ]
  },
  {
   "cell_type": "markdown",
   "id": "de8f28d0",
   "metadata": {},
   "source": [
    "# Алгоритм суммирования по Кэхену"
   ]
  },
  {
   "cell_type": "code",
   "execution_count": 30,
   "id": "41e8542e",
   "metadata": {},
   "outputs": [
    {
     "name": "stdout",
     "output_type": "stream",
     "text": [
      "-0.9999998647395554 1.352604446225314e-07\n"
     ]
    }
   ],
   "source": [
    "kahan_sum = 0\n",
    "c=0\n",
    "for i in range(n):\n",
    "    y = coef[i]-c\n",
    "    t = kahan_sum + y\n",
    "    z = t - kahan_sum\n",
    "    c = z - y\n",
    "    kahan_sum = t\n",
    "print(kahan_sum, kahan_sum-ref)"
   ]
  },
  {
   "cell_type": "markdown",
   "id": "01656325",
   "metadata": {},
   "source": [
    "# Вторая точка x = 7$\\Pi$"
   ]
  },
  {
   "cell_type": "code",
   "execution_count": 31,
   "id": "a41f9ccf",
   "metadata": {},
   "outputs": [
    {
     "name": "stdout",
     "output_type": "stream",
     "text": [
      "-7.567437693983619e-07\n",
      "36\n"
     ]
    }
   ],
   "source": [
    "x1 = 7*math.pi\n",
    "coef1 = []\n",
    "summ = 1\n",
    "n1 = 0\n",
    "while abs(summ) >= math.e**(-12):\n",
    "    summ = (-1)**n1*x1**(2*n1)/fact(2*n1)\n",
    "    coef1.append(summ)\n",
    "    n1+=1\n",
    "print(summ)\n",
    "print(n1)"
   ]
  },
  {
   "cell_type": "markdown",
   "id": "c5283371",
   "metadata": {},
   "source": [
    "# \"Наивное\" суммирование\n",
    "n=36"
   ]
  },
  {
   "cell_type": "code",
   "execution_count": 35,
   "id": "5d922451",
   "metadata": {},
   "outputs": [
    {
     "name": "stdout",
     "output_type": "stream",
     "text": [
      "-1.0000003576278687 -3.5762786865234375e-07\n"
     ]
    }
   ],
   "source": [
    "sm1 = 0\n",
    "for i in range(n1):\n",
    "    sm1+=coef1[i]\n",
    "print(sm1, sm1-refer)"
   ]
  },
  {
   "cell_type": "markdown",
   "id": "9f999d6f",
   "metadata": {},
   "source": [
    "# Суммирование в порядке возрастания слагаемых"
   ]
  },
  {
   "cell_type": "code",
   "execution_count": 36,
   "id": "a1eb1db5",
   "metadata": {},
   "outputs": [
    {
     "name": "stdout",
     "output_type": "stream",
     "text": [
      "-1.0000003576278687 -3.5762786865234375e-07\n"
     ]
    }
   ],
   "source": [
    "coef1.sort()\n",
    "sm2 = 0\n",
    "for i in range(n1):\n",
    "    sm2+=coef1[i]\n",
    "print(sm2, sm2-ref)"
   ]
  },
  {
   "cell_type": "markdown",
   "id": "e201f8e4",
   "metadata": {},
   "source": [
    "# Алгоритм суммирования по Кэхену"
   ]
  },
  {
   "cell_type": "code",
   "execution_count": 38,
   "id": "eb902305",
   "metadata": {},
   "outputs": [
    {
     "name": "stdout",
     "output_type": "stream",
     "text": [
      "-1.0000000596046448 -5.960464477539063e-08\n"
     ]
    }
   ],
   "source": [
    "kahan_sum1 = 0\n",
    "c1 = 0\n",
    "for i in range(n1):\n",
    "    y1 = coef1[i]-c1\n",
    "    t1 = kahan_sum1 + y1\n",
    "    z1 = t1 - kahan_sum1\n",
    "    c1 = z1 - y1\n",
    "    kahan_sum1 = t1\n",
    "print(kahan_sum1, kahan_sum1-ref)"
   ]
  },
  {
   "cell_type": "code",
   "execution_count": null,
   "id": "ccb7437e",
   "metadata": {},
   "outputs": [],
   "source": []
  }
 ],
 "metadata": {
  "kernelspec": {
   "display_name": "Python 3 (ipykernel)",
   "language": "python",
   "name": "python3"
  },
  "language_info": {
   "codemirror_mode": {
    "name": "ipython",
    "version": 3
   },
   "file_extension": ".py",
   "mimetype": "text/x-python",
   "name": "python",
   "nbconvert_exporter": "python",
   "pygments_lexer": "ipython3",
   "version": "3.10.9"
  }
 },
 "nbformat": 4,
 "nbformat_minor": 5
}
